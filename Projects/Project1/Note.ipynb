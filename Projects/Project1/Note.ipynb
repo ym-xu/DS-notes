{
 "cells": [
  {
   "cell_type": "markdown",
   "id": "de6c1e31",
   "metadata": {},
   "source": [
    "![jupyter](\"/Users/yimingxu/wk_space/DS-notes/Projects/Project1/img/AI4Code-top.jpg\")"
   ]
  },
  {
   "cell_type": "code",
   "execution_count": null,
   "id": "9b7ada21",
   "metadata": {},
   "outputs": [],
   "source": []
  }
 ],
 "metadata": {
  "kernelspec": {
   "display_name": "Python (socialweb38)",
   "language": "python",
   "name": "socialweb38"
  },
  "language_info": {
   "codemirror_mode": {
    "name": "ipython",
    "version": 3
   },
   "file_extension": ".py",
   "mimetype": "text/x-python",
   "name": "python",
   "nbconvert_exporter": "python",
   "pygments_lexer": "ipython3",
   "version": "3.8.12"
  }
 },
 "nbformat": 4,
 "nbformat_minor": 5
}
